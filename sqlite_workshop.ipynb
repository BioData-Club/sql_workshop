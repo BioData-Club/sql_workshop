{
 "cells": [
  {
   "cell_type": "code",
   "execution_count": 1,
   "metadata": {},
   "outputs": [],
   "source": [
    "import sqlite3\n",
    "import pandas as pd\n",
    "import re"
   ]
  },
  {
   "cell_type": "markdown",
   "metadata": {},
   "source": [
    "## Download Data"
   ]
  },
  {
   "cell_type": "markdown",
   "metadata": {},
   "source": [
    "Outline:\n",
    "\n",
    "\n",
    "1) Need to download SQLite browser (???)\n",
    "Download sqlite from https://www.sqlite.org/download.html\n",
    "or sqlite browser from https://sqlitebrowser.org/dl/\n",
    "2) Need sqlite3 module and probably pandas\n",
    "\n",
    "3) Virtually run jupyter notebook? L asking Robin and Eric about best ways to proceed\n",
    "\n",
    "3) Jupyter notebook: 2 versions (answers and questions)\n",
    "\n",
    "4) Figure out the best way to import data from pandas dataframes.\n",
    "\n",
    "5) Introduction to databases in general: excel chart to dataframes to \n",
    "\n",
    "6) Creating the database- loading in data, constructing tables - L and D need to figure it out\n",
    "\n",
    "7) After create database, start playing around with queries\n",
    "\n",
    "8) Ask Mike about setting up sql on our own computers"
   ]
  },
  {
   "cell_type": "code",
   "execution_count": 2,
   "metadata": {},
   "outputs": [],
   "source": [
    "# Data sets available at https://catalog.data.gov/dataset\n",
    "data = pd.read_csv('NCHS_-_Leading_Causes_of_Death__United_States.csv',',')\n"
   ]
  },
  {
   "cell_type": "code",
   "execution_count": 3,
   "metadata": {},
   "outputs": [
    {
     "data": {
      "text/html": [
       "<div>\n",
       "<style scoped>\n",
       "    .dataframe tbody tr th:only-of-type {\n",
       "        vertical-align: middle;\n",
       "    }\n",
       "\n",
       "    .dataframe tbody tr th {\n",
       "        vertical-align: top;\n",
       "    }\n",
       "\n",
       "    .dataframe thead th {\n",
       "        text-align: right;\n",
       "    }\n",
       "</style>\n",
       "<table border=\"1\" class=\"dataframe\">\n",
       "  <thead>\n",
       "    <tr style=\"text-align: right;\">\n",
       "      <th></th>\n",
       "      <th>Year</th>\n",
       "      <th>113 Cause Name</th>\n",
       "      <th>Cause Name</th>\n",
       "      <th>State</th>\n",
       "      <th>Deaths</th>\n",
       "      <th>Age-adjusted Death Rate</th>\n",
       "    </tr>\n",
       "  </thead>\n",
       "  <tbody>\n",
       "    <tr>\n",
       "      <th>0</th>\n",
       "      <td>2012</td>\n",
       "      <td>Nephritis, nephrotic syndrome and nephrosis (N...</td>\n",
       "      <td>Kidney disease</td>\n",
       "      <td>Vermont</td>\n",
       "      <td>21</td>\n",
       "      <td>2.6</td>\n",
       "    </tr>\n",
       "    <tr>\n",
       "      <th>1</th>\n",
       "      <td>2016</td>\n",
       "      <td>Nephritis, nephrotic syndrome and nephrosis (N...</td>\n",
       "      <td>Kidney disease</td>\n",
       "      <td>Vermont</td>\n",
       "      <td>30</td>\n",
       "      <td>3.7</td>\n",
       "    </tr>\n",
       "    <tr>\n",
       "      <th>2</th>\n",
       "      <td>2013</td>\n",
       "      <td>Nephritis, nephrotic syndrome and nephrosis (N...</td>\n",
       "      <td>Kidney disease</td>\n",
       "      <td>Vermont</td>\n",
       "      <td>30</td>\n",
       "      <td>3.8</td>\n",
       "    </tr>\n",
       "    <tr>\n",
       "      <th>3</th>\n",
       "      <td>2000</td>\n",
       "      <td>Intentional self-harm (suicide) (*U03,X60-X84,...</td>\n",
       "      <td>Suicide</td>\n",
       "      <td>District of Columbia</td>\n",
       "      <td>23</td>\n",
       "      <td>3.8</td>\n",
       "    </tr>\n",
       "    <tr>\n",
       "      <th>4</th>\n",
       "      <td>2014</td>\n",
       "      <td>Nephritis, nephrotic syndrome and nephrosis (N...</td>\n",
       "      <td>Kidney disease</td>\n",
       "      <td>Arizona</td>\n",
       "      <td>325</td>\n",
       "      <td>4.1</td>\n",
       "    </tr>\n",
       "  </tbody>\n",
       "</table>\n",
       "</div>"
      ],
      "text/plain": [
       "   Year                                     113 Cause Name      Cause Name  \\\n",
       "0  2012  Nephritis, nephrotic syndrome and nephrosis (N...  Kidney disease   \n",
       "1  2016  Nephritis, nephrotic syndrome and nephrosis (N...  Kidney disease   \n",
       "2  2013  Nephritis, nephrotic syndrome and nephrosis (N...  Kidney disease   \n",
       "3  2000  Intentional self-harm (suicide) (*U03,X60-X84,...         Suicide   \n",
       "4  2014  Nephritis, nephrotic syndrome and nephrosis (N...  Kidney disease   \n",
       "\n",
       "                  State  Deaths  Age-adjusted Death Rate  \n",
       "0               Vermont      21                      2.6  \n",
       "1               Vermont      30                      3.7  \n",
       "2               Vermont      30                      3.8  \n",
       "3  District of Columbia      23                      3.8  \n",
       "4               Arizona     325                      4.1  "
      ]
     },
     "execution_count": 3,
     "metadata": {},
     "output_type": "execute_result"
    }
   ],
   "source": [
    "# Look at data\n",
    "data.head()"
   ]
  },
  {
   "cell_type": "code",
   "execution_count": 4,
   "metadata": {},
   "outputs": [
    {
     "name": "stdout",
     "output_type": "stream",
     "text": [
      "['Year', '113 Cause Name', 'Cause Name', 'State', 'Deaths', 'Age-adjusted Death Rate']\n"
     ]
    }
   ],
   "source": [
    "# What are the column names?\n",
    "print([col for col in data.columns])"
   ]
  },
  {
   "cell_type": "code",
   "execution_count": 5,
   "metadata": {},
   "outputs": [
    {
     "name": "stdout",
     "output_type": "stream",
     "text": [
      "{'Suicide', 'Influenza and pneumonia', 'Unintentional injuries', 'Kidney disease', 'Heart disease', 'Stroke', 'All causes', \"Alzheimer's disease\", 'CLRD', 'Diabetes', 'Cancer'}\n"
     ]
    }
   ],
   "source": [
    "# What are unique causes of death\n",
    "print(set(data['Cause Name'].values))"
   ]
  },
  {
   "cell_type": "code",
   "execution_count": 6,
   "metadata": {},
   "outputs": [
    {
     "name": "stdout",
     "output_type": "stream",
     "text": [
      "[7, 23, 22, 14, 13, 6, 10, 19, 4, 8, 6]\n"
     ]
    }
   ],
   "source": [
    "#Number of characters in cause\n",
    "print([len(list(cause)) for cause in set(data['Cause Name'].values)])"
   ]
  },
  {
   "cell_type": "code",
   "execution_count": 25,
   "metadata": {},
   "outputs": [
    {
     "name": "stdout",
     "output_type": "stream",
     "text": [
      "dict_keys(['Year', '_113_Cause_Name', 'Cause_Name', 'State', 'main_table'])\n"
     ]
    }
   ],
   "source": [
    "def makeDFsFromColumns(L,dataframe,dfDict):\n",
    "    for item in L:\n",
    "        #Rename item to avoid spaces\n",
    "        item_new_name = re.sub(' ', '_', item)\n",
    "        item_new_name = re.sub('113', '_113', item_new_name)\n",
    "        \n",
    "        #Take unique items, put into dataframe\n",
    "        data_unique = dataframe[item].unique()\n",
    "        unique_df = pd.DataFrame(data_unique, columns = [item_new_name])\n",
    "        \n",
    "        #Save as csv file with new file\n",
    "        dfDict[item_new_name] = unique_df\n",
    "\n",
    "# Make files of unique values for all data except \"Deaths\" and \"Age-adjusted Death Rate\"\n",
    "L = [col for col in data.columns if col not in [\"Deaths\", \"Age-adjusted Death Rate\"]]\n",
    "\n",
    "# Put unique dataframes into a dictionary\n",
    "dfDict = {}\n",
    "makeDFsFromColumns(L,data,dfDict)\n",
    "\n",
    "main_data_frame = pd.DataFrame(data, columns = [\"Year\", \"Cause Name\", \"State\", \"Deaths\", \"Age-adjusted Death Rate\"])\n",
    "dfDict['Deaths'] = main_data_frame\n",
    "print(dfDict.keys())\n"
   ]
  },
  {
   "cell_type": "code",
   "execution_count": 8,
   "metadata": {},
   "outputs": [
    {
     "data": {
      "text/plain": [
       "<sqlite3.Cursor at 0x113092880>"
      ]
     },
     "execution_count": 8,
     "metadata": {},
     "output_type": "execute_result"
    }
   ],
   "source": [
    "# Make single table as an example\n",
    "conn = sqlite3.connect(\"leading_cases_of_death.sqlite\")\n",
    "cur = conn.cursor()\n",
    "sql_statement1 = (\"DROP TABLE IF EXISTS Cause\")\n",
    "#sql_statement2 = ''' CREATE TABLE Cause (\n",
    "                    #CauseNumber INTEGER PRIMARY KEY,\n",
    "                    #Cause VARCHAR(23) NOT NULL\n",
    "                    #);'''\n",
    "cur.execute(sql_statement1)\n",
    "#cur.execute(sql_statement2)\n",
    "\n",
    "#cur.executemany(\"INSERT INTO Cause (Cause) VALUES (?)\", dfDict['Cause_Name'].values)\n",
    "\n"
   ]
  },
  {
   "cell_type": "code",
   "execution_count": 9,
   "metadata": {},
   "outputs": [],
   "source": [
    "# What does the table look like?\n",
    "#df = pd.read_sql_query(\"SELECT * FROM Cause\", conn)\n",
    "#conn.close()\n"
   ]
  },
  {
   "cell_type": "code",
   "execution_count": 26,
   "metadata": {},
   "outputs": [
    {
     "name": "stdout",
     "output_type": "stream",
     "text": [
      "INSERT INTO Year (Year) VALUES (?);\n",
      "[2012, 2016, 2013, 2000, 2014, 2009, 2011, 2015, 2001, 1999, 2006, 2002, 2003, 2008, 2005, 2004, 2007, 2010]\n",
      "INSERT INTO _113_Cause_Name (_113_Cause_Name) VALUES (?);\n",
      "['Nephritis, nephrotic syndrome and nephrosis (N00-N07,N17-N19,N25-N27)', 'Intentional self-harm (suicide) (*U03,X60-X84,Y87.0)', \"Alzheimer's disease (G30)\", 'Influenza and pneumonia (J09-J18)', 'Diabetes mellitus (E10-E14)', 'Chronic lower respiratory diseases (J40-J47)', 'Accidents (unintentional injuries) (V01-X59,Y85-Y86)', 'Cerebrovascular diseases (I60-I69)', 'Diseases of heart (I00-I09,I11,I13,I20-I51)', 'Malignant neoplasms (C00-C97)', 'All Causes']\n",
      "INSERT INTO Cause_Name (Cause_Name) VALUES (?);\n",
      "['Kidney disease', 'Suicide', \"Alzheimer's disease\", 'Influenza and pneumonia', 'Diabetes', 'CLRD', 'Unintentional injuries', 'Stroke', 'Heart disease', 'Cancer', 'All causes']\n",
      "INSERT INTO State (State) VALUES (?);\n",
      "['Vermont', 'District of Columbia', 'Arizona', 'South Dakota', 'Washington', 'Iowa', 'New York', 'Massachusetts', 'New Jersey', 'California', 'North Dakota', 'Rhode Island', 'Alaska', 'Oregon', 'Wyoming', 'Idaho', 'Connecticut', 'Minnesota', 'Illinois', 'Montana', 'New Hampshire', 'Hawaii', 'Maryland', 'Florida', 'Colorado', 'Nevada', 'Utah', 'Delaware', 'New Mexico', 'Nebraska', 'Ohio', 'Michigan', 'Maine', 'Tennessee', 'Pennsylvania', 'Texas', 'Georgia', 'Louisiana', 'Indiana', 'United States', 'Mississippi', 'South Carolina', 'Virginia', 'Kansas', 'Wisconsin', 'North Carolina', 'Alabama', 'Kentucky', 'Missouri', 'Oklahoma', 'West Virginia', 'Arkansas']\n"
     ]
    }
   ],
   "source": [
    "# Automate\n",
    "# Make files of unique values for all data except \"Deaths\" and \"Age-adjusted Death Rate\"\n",
    "L = [col for col in data.columns if col not in [\"Deaths\", \"Age-adjusted Death Rate\"]]\n",
    "L = [re.sub(' ', '_', item) for item in L]\n",
    "L = [re.sub('113', '_113', item) for item in L]\n",
    "\n",
    "def loadSmallTables(conn,L,dfDict):\n",
    "    for variable in L:\n",
    "        df = dfDict[variable]\n",
    "        items = [item[0] for item in df.values]\n",
    "        maxLength = max([len(list(str(item))) for item in items])\n",
    "        sql_statement1 = (\"DROP TABLE IF EXISTS {0}\".format(variable))\n",
    "        cur.execute(sql_statement1)\n",
    "        f_list = [variable, variable + 'ID', 'VARCHAR', maxLength]\n",
    "        if variable == 'Year':\n",
    "            f_list[2] = 'INTEGER'\n",
    "            f_list[3] = '' \n",
    "        sql_statement2 = '''CREATE TABLE {0} (\n",
    "                            {1} INTEGER PRIMARY KEY,\n",
    "                            {0} {2}{3} NOT NULL\n",
    "                            );'''.format(f_list[0], f_list[1], f_list[2], f_list[3])\n",
    "        cur.execute(sql_statement2)\n",
    "        sql_statement3 = \"INSERT INTO {0} ({0}) VALUES (?);\".format(variable)\n",
    "        cur.executemany(sql_statement3, df.values)\n",
    "\n",
    "loadSmallTables(conn,L,dfDict)\n",
    "\n",
    "# Load main table\n",
    "sql_statement1 = (\"DROP TABLE IF EXISTS Deaths\")\n",
    "sql_statement2 = '''CREATE TABLE Deaths (\n",
    "                    Deaths INTEGER,\n",
    "                    Age-adjusted_Death_Rate FLOAT,\n",
    "                    Cause_Name_ID INTEGER,\n",
    "                    Year_ID INTEGER,\n",
    "                    State_ID INTEGER,\n",
    "                    FOREIGN KEY (Cause_Name_ID) REFERENCES Cause_Name(Cause_Name_ID)\n",
    "                    \n",
    "                    \n",
    "                    )'''\n",
    "\n",
    "\n",
    "conn.close()"
   ]
  },
  {
   "cell_type": "code",
   "execution_count": 22,
   "metadata": {},
   "outputs": [
    {
     "name": "stdout",
     "output_type": "stream",
     "text": [
      "Year\n",
      "_113 Cause Name\n",
      "Cause Name\n",
      "State\n",
      "main_table\n"
     ]
    },
    {
     "data": {
      "text/plain": [
       "[None, None, None, None, None]"
      ]
     },
     "execution_count": 22,
     "metadata": {},
     "output_type": "execute_result"
    }
   ],
   "source": [
    "[print(key) for key in dfDict.keys()]"
   ]
  },
  {
   "cell_type": "code",
   "execution_count": 19,
   "metadata": {},
   "outputs": [
    {
     "name": "stdout",
     "output_type": "stream",
     "text": [
      "['Year', '_113_Cause_Name', 'Cause_Name', 'State']\n"
     ]
    }
   ],
   "source": [
    "print(L)\n"
   ]
  },
  {
   "cell_type": "code",
   "execution_count": null,
   "metadata": {},
   "outputs": [],
   "source": []
  }
 ],
 "metadata": {
  "kernelspec": {
   "display_name": "Python 3",
   "language": "python",
   "name": "python3"
  },
  "language_info": {
   "codemirror_mode": {
    "name": "ipython",
    "version": 3
   },
   "file_extension": ".py",
   "mimetype": "text/x-python",
   "name": "python",
   "nbconvert_exporter": "python",
   "pygments_lexer": "ipython3",
   "version": "3.7.3"
  }
 },
 "nbformat": 4,
 "nbformat_minor": 2
}
